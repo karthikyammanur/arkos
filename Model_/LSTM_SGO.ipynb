{
  "cells": [
    {
      "cell_type": "code",
      "execution_count": null,
      "metadata": {
        "id": "g4Qgs-PdLuMH"
      },
      "outputs": [],
      "source": [
        "# --- 0. Imports ---\n",
        "import pandas as pd\n",
        "import numpy as np\n",
        "import requests, zipfile, io\n",
        "from sklearn.preprocessing import MinMaxScaler\n",
        "from sklearn.metrics import mean_squared_error, mean_absolute_error\n",
        "import tensorflow as tf\n",
        "from tensorflow.keras.models import Sequential\n",
        "from tensorflow.keras.layers import LSTM, Dense, Dropout"
      ]
    },
    {
      "cell_type": "code",
      "execution_count": null,
      "metadata": {
        "id": "sNA_7XAILuIp"
      },
      "outputs": [],
      "source": [
        "# --- 1. Download & extract dataset ---\n",
        "url = \"https://archive.ics.uci.edu/ml/machine-learning-databases/00235/household_power_consumption.zip\"\n",
        "r = requests.get(url)\n",
        "z = zipfile.ZipFile(io.BytesIO(r.content))\n",
        "z.extractall()"
      ]
    },
    {
      "cell_type": "code",
      "execution_count": 11,
      "metadata": {
        "id": "3nhPvz4nLuGT"
      },
      "outputs": [],
      "source": [
        "# --- 2. Load and preprocess raw data ---\n",
        "df = pd.read_csv(\n",
        "    'household_power_consumption.txt',\n",
        "    sep=';',\n",
        "    na_values=['?'],\n",
        "    low_memory=False\n",
        ")\n",
        "df['dt'] = pd.to_datetime(df['Date'] + ' ' + df['Time'], format='%d/%m/%Y %H:%M:%S')\n",
        "df.set_index('dt', inplace=True)\n",
        "df = df[['Global_active_power']].dropna()"
      ]
    },
    {
      "cell_type": "code",
      "execution_count": null,
      "metadata": {
        "colab": {
          "base_uri": "https://localhost:8080/"
        },
        "id": "gH6xauPGLuDs",
        "outputId": "20144443-91bc-4d7a-823c-1e681b663b35"
      },
      "outputs": [
        {
          "name": "stdout",
          "output_type": "stream",
          "text": [
            "Missing after fill:\n",
            " Global_active_power    0\n",
            "hour                   0\n",
            "dayofweek              0\n",
            "dtype: int64\n"
          ]
        }
      ],
      "source": [
        "# --- 3. Proper hourly resampling + gap-filling ---\n",
        "df = df.sort_index()\n",
        "hourly = df.resample('h').mean()\n",
        "hourly = hourly.asfreq('h')\n",
        "hourly = hourly.interpolate(method='time', limit_direction='both')\n",
        "hourly['hour'] = hourly.index.hour\n",
        "hourly['dayofweek'] = hourly.index.dayofweek\n",
        "print(\"Missing after fill:\\n\", hourly.isna().sum())"
      ]
    },
    {
      "cell_type": "code",
      "execution_count": 13,
      "metadata": {
        "id": "qqwxdG4kLuBU"
      },
      "outputs": [],
      "source": [
        "# --- 4. Scale all features ---\n",
        "scaler = MinMaxScaler()\n",
        "scaled = scaler.fit_transform(hourly)"
      ]
    },
    {
      "cell_type": "code",
      "execution_count": null,
      "metadata": {
        "id": "Y29fjSFwLt_A"
      },
      "outputs": [],
      "source": [
        "# --- 5. Create sequences for LSTM ---\n",
        "SEQ_LEN = 24  #use past 24 hours\n",
        "def make_seq(data, seq_len):\n",
        "    X, y = [], []\n",
        "    for i in range(len(data) - seq_len):\n",
        "        X.append(data[i:i+seq_len])\n",
        "        y.append(data[i+seq_len][0])\n",
        "    return np.array(X), np.array(y)\n",
        "\n",
        "X, y = make_seq(scaled, SEQ_LEN)"
      ]
    },
    {
      "cell_type": "code",
      "execution_count": 15,
      "metadata": {
        "id": "1CaAr7fLLt8b"
      },
      "outputs": [],
      "source": [
        "# --- 6. Train-test split ---\n",
        "split = int(len(X) * 0.8)\n",
        "X_train, X_test = X[:split], X[split:]\n",
        "y_train, y_test = y[:split], y[split:]"
      ]
    },
    {
      "cell_type": "code",
      "execution_count": null,
      "metadata": {
        "id": "uhET4pjyLt2r"
      },
      "outputs": [],
      "source": [
        "from tensorflow.keras import Input\n",
        "\n",
        "# --- 7. Build the LSTM model---\n",
        "model = Sequential([\n",
        "    Input(shape=(SEQ_LEN, 3)),\n",
        "    LSTM(64, return_sequences=True),\n",
        "    Dropout(0.2),\n",
        "    LSTM(32),\n",
        "    Dropout(0.2),\n",
        "    Dense(1)\n",
        "])\n",
        "model.compile(optimizer='adam', loss='mse')"
      ]
    },
    {
      "cell_type": "code",
      "execution_count": null,
      "metadata": {
        "colab": {
          "base_uri": "https://localhost:8080/"
        },
        "id": "6NOQklNVLt0u",
        "outputId": "91d9bcce-c12b-414a-fa35-b76f7517721b"
      },
      "outputs": [
        {
          "name": "stdout",
          "output_type": "stream",
          "text": [
            "Epoch 1/20\n",
            "\u001b[1m865/865\u001b[0m \u001b[32m━━━━━━━━━━━━━━━━━━━━\u001b[0m\u001b[37m\u001b[0m \u001b[1m11s\u001b[0m 9ms/step - loss: 0.0170 - val_loss: 0.0068\n",
            "Epoch 2/20\n",
            "\u001b[1m865/865\u001b[0m \u001b[32m━━━━━━━━━━━━━━━━━━━━\u001b[0m\u001b[37m\u001b[0m \u001b[1m7s\u001b[0m 7ms/step - loss: 0.0104 - val_loss: 0.0064\n",
            "Epoch 3/20\n",
            "\u001b[1m865/865\u001b[0m \u001b[32m━━━━━━━━━━━━━━━━━━━━\u001b[0m\u001b[37m\u001b[0m \u001b[1m11s\u001b[0m 8ms/step - loss: 0.0097 - val_loss: 0.0061\n",
            "Epoch 4/20\n",
            "\u001b[1m865/865\u001b[0m \u001b[32m━━━━━━━━━━━━━━━━━━━━\u001b[0m\u001b[37m\u001b[0m \u001b[1m10s\u001b[0m 7ms/step - loss: 0.0090 - val_loss: 0.0059\n",
            "Epoch 5/20\n",
            "\u001b[1m865/865\u001b[0m \u001b[32m━━━━━━━━━━━━━━━━━━━━\u001b[0m\u001b[37m\u001b[0m \u001b[1m7s\u001b[0m 8ms/step - loss: 0.0085 - val_loss: 0.0060\n",
            "Epoch 6/20\n",
            "\u001b[1m865/865\u001b[0m \u001b[32m━━━━━━━━━━━━━━━━━━━━\u001b[0m\u001b[37m\u001b[0m \u001b[1m9s\u001b[0m 7ms/step - loss: 0.0087 - val_loss: 0.0060\n",
            "Epoch 7/20\n",
            "\u001b[1m865/865\u001b[0m \u001b[32m━━━━━━━━━━━━━━━━━━━━\u001b[0m\u001b[37m\u001b[0m \u001b[1m10s\u001b[0m 7ms/step - loss: 0.0086 - val_loss: 0.0059\n",
            "Epoch 8/20\n",
            "\u001b[1m865/865\u001b[0m \u001b[32m━━━━━━━━━━━━━━━━━━━━\u001b[0m\u001b[37m\u001b[0m \u001b[1m10s\u001b[0m 7ms/step - loss: 0.0086 - val_loss: 0.0059\n",
            "Epoch 9/20\n",
            "\u001b[1m865/865\u001b[0m \u001b[32m━━━━━━━━━━━━━━━━━━━━\u001b[0m\u001b[37m\u001b[0m \u001b[1m7s\u001b[0m 8ms/step - loss: 0.0084 - val_loss: 0.0059\n",
            "Epoch 10/20\n",
            "\u001b[1m865/865\u001b[0m \u001b[32m━━━━━━━━━━━━━━━━━━━━\u001b[0m\u001b[37m\u001b[0m \u001b[1m11s\u001b[0m 8ms/step - loss: 0.0082 - val_loss: 0.0057\n",
            "Epoch 11/20\n",
            "\u001b[1m865/865\u001b[0m \u001b[32m━━━━━━━━━━━━━━━━━━━━\u001b[0m\u001b[37m\u001b[0m \u001b[1m10s\u001b[0m 8ms/step - loss: 0.0082 - val_loss: 0.0057\n",
            "Epoch 12/20\n",
            "\u001b[1m865/865\u001b[0m \u001b[32m━━━━━━━━━━━━━━━━━━━━\u001b[0m\u001b[37m\u001b[0m \u001b[1m10s\u001b[0m 7ms/step - loss: 0.0084 - val_loss: 0.0057\n",
            "Epoch 13/20\n",
            "\u001b[1m865/865\u001b[0m \u001b[32m━━━━━━━━━━━━━━━━━━━━\u001b[0m\u001b[37m\u001b[0m \u001b[1m11s\u001b[0m 8ms/step - loss: 0.0080 - val_loss: 0.0059\n",
            "Epoch 14/20\n",
            "\u001b[1m865/865\u001b[0m \u001b[32m━━━━━━━━━━━━━━━━━━━━\u001b[0m\u001b[37m\u001b[0m \u001b[1m7s\u001b[0m 8ms/step - loss: 0.0079 - val_loss: 0.0057\n",
            "Epoch 15/20\n",
            "\u001b[1m865/865\u001b[0m \u001b[32m━━━━━━━━━━━━━━━━━━━━\u001b[0m\u001b[37m\u001b[0m \u001b[1m6s\u001b[0m 7ms/step - loss: 0.0081 - val_loss: 0.0056\n",
            "Epoch 16/20\n",
            "\u001b[1m865/865\u001b[0m \u001b[32m━━━━━━━━━━━━━━━━━━━━\u001b[0m\u001b[37m\u001b[0m \u001b[1m7s\u001b[0m 8ms/step - loss: 0.0080 - val_loss: 0.0058\n",
            "Epoch 17/20\n",
            "\u001b[1m865/865\u001b[0m \u001b[32m━━━━━━━━━━━━━━━━━━━━\u001b[0m\u001b[37m\u001b[0m \u001b[1m10s\u001b[0m 8ms/step - loss: 0.0080 - val_loss: 0.0055\n",
            "Epoch 18/20\n",
            "\u001b[1m865/865\u001b[0m \u001b[32m━━━━━━━━━━━━━━━━━━━━\u001b[0m\u001b[37m\u001b[0m \u001b[1m6s\u001b[0m 7ms/step - loss: 0.0080 - val_loss: 0.0057\n",
            "Epoch 19/20\n",
            "\u001b[1m865/865\u001b[0m \u001b[32m━━━━━━━━━━━━━━━━━━━━\u001b[0m\u001b[37m\u001b[0m \u001b[1m10s\u001b[0m 7ms/step - loss: 0.0080 - val_loss: 0.0057\n",
            "Epoch 20/20\n",
            "\u001b[1m865/865\u001b[0m \u001b[32m━━━━━━━━━━━━━━━━━━━━\u001b[0m\u001b[37m\u001b[0m \u001b[1m7s\u001b[0m 8ms/step - loss: 0.0079 - val_loss: 0.0058\n"
          ]
        }
      ],
      "source": [
        "# --- 8. Training the model ---\n",
        "history = model.fit(\n",
        "    X_train, y_train,\n",
        "    validation_data=(X_test, y_test),\n",
        "    epochs=20,\n",
        "    batch_size=32\n",
        ")"
      ]
    },
    {
      "cell_type": "code",
      "execution_count": 18,
      "metadata": {
        "colab": {
          "base_uri": "https://localhost:8080/"
        },
        "id": "zlFsFaqzLtya",
        "outputId": "0f194196-ef71-47c6-a368-62982017981a"
      },
      "outputs": [
        {
          "name": "stdout",
          "output_type": "stream",
          "text": [
            "\u001b[1m217/217\u001b[0m \u001b[32m━━━━━━━━━━━━━━━━━━━━\u001b[0m\u001b[37m\u001b[0m \u001b[1m1s\u001b[0m 4ms/step\n"
          ]
        }
      ],
      "source": [
        "# --- 9. Predict and evaluate ---\n",
        "pred_scaled = model.predict(X_test)\n",
        "pred = scaler.inverse_transform(np.hstack([pred_scaled, X_test[:, -1, 1:]]))[:, 0]  # inverse-transform just power\n",
        "actual = scaler.inverse_transform(np.hstack([y_test.reshape(-1,1), X_test[:, -1, 1:]]))[:, 0]"
      ]
    },
    {
      "cell_type": "code",
      "execution_count": null,
      "metadata": {
        "colab": {
          "base_uri": "https://localhost:8080/"
        },
        "id": "t5HLEWdRLttn",
        "outputId": "f3a3eac1-5e1d-40a4-c6bd-5ee9aa7cb79a"
      },
      "outputs": [
        {
          "name": "stdout",
          "output_type": "stream",
          "text": [
            "\n",
            "✅ Final Accuracy:\n",
            "Test MSE : 0.2418\n",
            "Test RMSE: 0.4917 kW\n",
            "Test MAE : 0.3465 kW\n"
          ]
        }
      ],
      "source": [
        "# 10. Compute accuracy metrics\n",
        "mse  = mean_squared_error(actual, pred)\n",
        "rmse = np.sqrt(mse)\n",
        "mae  = mean_absolute_error(actual, pred)\n",
        "\n",
        "print(f\"\\n✅ Final Accuracy:\")\n",
        "print(f\"Test MSE : {mse:.4f}\")\n",
        "print(f\"Test RMSE: {rmse:.4f} kW\")\n",
        "print(f\"Test MAE : {mae:.4f} kW\")"
      ]
    },
    {
      "cell_type": "code",
      "execution_count": 20,
      "metadata": {
        "id": "L8a9NNkWnxqY"
      },
      "outputs": [],
      "source": [
        "# -------- SGO MODEL --------"
      ]
    },
    {
      "cell_type": "code",
      "execution_count": 21,
      "metadata": {
        "colab": {
          "base_uri": "https://localhost:8080/"
        },
        "id": "FZxVh1Nun2cQ",
        "outputId": "4cd3a7ed-ded7-4d19-90ea-72ae999dfd4d"
      },
      "outputs": [
        {
          "name": "stdout",
          "output_type": "stream",
          "text": [
            "Requirement already satisfied: numpy in /usr/local/lib/python3.11/dist-packages (2.0.2)\n",
            "Requirement already satisfied: pandas in /usr/local/lib/python3.11/dist-packages (2.2.2)\n",
            "Requirement already satisfied: python-dateutil>=2.8.2 in /usr/local/lib/python3.11/dist-packages (from pandas) (2.8.2)\n",
            "Requirement already satisfied: pytz>=2020.1 in /usr/local/lib/python3.11/dist-packages (from pandas) (2025.2)\n",
            "Requirement already satisfied: tzdata>=2022.7 in /usr/local/lib/python3.11/dist-packages (from pandas) (2025.2)\n",
            "Requirement already satisfied: six>=1.5 in /usr/local/lib/python3.11/dist-packages (from python-dateutil>=2.8.2->pandas) (1.17.0)\n"
          ]
        }
      ],
      "source": [
        "pip install numpy pandas"
      ]
    },
    {
      "cell_type": "code",
      "execution_count": null,
      "metadata": {
        "colab": {
          "base_uri": "https://localhost:8080/"
        },
        "id": "3BByRANnn6bm",
        "outputId": "8eb883fd-5901-49e1-fb59-28d693ef2745"
      },
      "outputs": [
        {
          "name": "stdout",
          "output_type": "stream",
          "text": [
            "\u001b[1m217/217\u001b[0m \u001b[32m━━━━━━━━━━━━━━━━━━━━\u001b[0m\u001b[37m\u001b[0m \u001b[1m1s\u001b[0m 3ms/step\n"
          ]
        }
      ],
      "source": [
        "import numpy as np\n",
        "import pandas as pd\n",
        "\n",
        "# Assume predicted demand for 24 hours (kW)\n",
        "pred_scaled = model.predict(X_test)\n",
        "# Manually reverse the MinMax scaling for just 1 feature\n",
        "min_val = scaler.data_min_[0]   # only the first column was predicted\n",
        "max_val = scaler.data_max_[0]\n",
        "predicted_demand = pred_scaled.flatten() * (max_val - min_val) + min_val\n",
        "predicted_demand = predicted_demand[:24]\n",
        "\n",
        "# Assume renewable availability (kW): solar peaks in day, zero at night\n",
        "renewable_avail = np.array([\n",
        "    0.0, 0.0, 0.1, 0.3, 0.6, 1.5, 2.5, 3.0,\n",
        "    3.2, 3.5, 3.7, 4.0, 3.5, 3.0, 2.5, 1.8,\n",
        "    1.0, 0.5, 0.2, 0.0, 0.0, 0.0, 0.0, 0.0\n",
        "])\n",
        "\n",
        "# Carbon emissions (arbitrary units): 0 for renewables, 1.0 for non-renewables\n",
        "COST_PER_KW_RENEW = 0.05\n",
        "COST_PER_KW_NONRENEW = 0.15\n",
        "EMISSIONS_NONRENEW = 1.0"
      ]
    },
    {
      "cell_type": "code",
      "execution_count": 26,
      "metadata": {
        "colab": {
          "base_uri": "https://localhost:8080/"
        },
        "id": "C0sc56sTn7ik",
        "outputId": "0a8aa316-b712-4d9f-b60c-fe9e24bae538"
      },
      "outputs": [
        {
          "name": "stdout",
          "output_type": "stream",
          "text": [
            "    hour  demand_kW  renewable_used_kW  nonrenewable_kW  hour_cost_$  \\\n",
            "0      0   1.830292           0.000000         1.830292     0.274544   \n",
            "1      1   0.595521           0.000000         0.595521     0.089328   \n",
            "2      2   0.356789           0.100000         0.256789     0.043518   \n",
            "3      3   0.303273           0.300000         0.003273     0.015491   \n",
            "4      4   0.271273           0.271273         0.000000     0.013564   \n",
            "5      5   0.258433           0.258433         0.000000     0.012922   \n",
            "6      6   0.568320           0.568320         0.000000     0.028416   \n",
            "7      7   0.366855           0.366855         0.000000     0.018343   \n",
            "8      8   0.463355           0.463355         0.000000     0.023168   \n",
            "9      9   0.876496           0.876496         0.000000     0.043825   \n",
            "10    10   2.067196           2.067196         0.000000     0.103360   \n",
            "11    11   2.142777           2.142777         0.000000     0.107139   \n",
            "12    12   1.433289           1.433289         0.000000     0.071664   \n",
            "13    13   1.875467           1.875467         0.000000     0.093773   \n",
            "14    14   1.872296           1.872296         0.000000     0.093615   \n",
            "15    15   1.906907           1.800000         0.106907     0.106036   \n",
            "16    16   1.473593           1.000000         0.473593     0.121039   \n",
            "17    17   1.303483           0.500000         0.803483     0.145522   \n",
            "18    18   1.371238           0.200000         1.171238     0.185686   \n",
            "19    19   1.566221           0.000000         1.566221     0.234933   \n",
            "20    20   1.890691           0.000000         1.890691     0.283604   \n",
            "21    21   1.503018           0.000000         1.503018     0.225453   \n",
            "22    22   1.497903           0.000000         1.497903     0.224685   \n",
            "23    23   1.621865           0.000000         1.621865     0.243280   \n",
            "\n",
            "    hour_emissions  \n",
            "0         1.830292  \n",
            "1         0.595521  \n",
            "2         0.256789  \n",
            "3         0.003273  \n",
            "4         0.000000  \n",
            "5         0.000000  \n",
            "6         0.000000  \n",
            "7         0.000000  \n",
            "8         0.000000  \n",
            "9         0.000000  \n",
            "10        0.000000  \n",
            "11        0.000000  \n",
            "12        0.000000  \n",
            "13        0.000000  \n",
            "14        0.000000  \n",
            "15        0.106907  \n",
            "16        0.473593  \n",
            "17        0.803483  \n",
            "18        1.171238  \n",
            "19        1.566221  \n",
            "20        1.890691  \n",
            "21        1.503018  \n",
            "22        1.497903  \n",
            "23        1.621865  \n",
            "\n",
            "Total Cost: $2.80\n",
            "Total Emissions: 13.32 units\n"
          ]
        }
      ],
      "source": [
        "optimal_mix = []\n",
        "\n",
        "total_cost = 0\n",
        "total_emissions = 0\n",
        "\n",
        "for hour in range(24):\n",
        "    demand = predicted_demand[hour]\n",
        "    renewable_used = min(demand, renewable_avail[hour])\n",
        "    nonrenewable_needed = demand - renewable_used\n",
        "\n",
        "    hour_cost = (renewable_used * COST_PER_KW_RENEW) + (nonrenewable_needed * COST_PER_KW_NONRENEW)\n",
        "    hour_emissions = nonrenewable_needed * EMISSIONS_NONRENEW\n",
        "\n",
        "    total_cost += hour_cost\n",
        "    total_emissions += hour_emissions\n",
        "\n",
        "    optimal_mix.append({\n",
        "        'hour': hour,\n",
        "        'demand_kW': demand,\n",
        "        'renewable_used_kW': renewable_used,\n",
        "        'nonrenewable_kW': nonrenewable_needed,\n",
        "        'hour_cost_$': hour_cost,\n",
        "        'hour_emissions': hour_emissions\n",
        "    })\n",
        "\n",
        "df_mix = pd.DataFrame(optimal_mix)\n",
        "print(df_mix)\n",
        "print(f\"\\nTotal Cost: ${total_cost:.2f}\")\n",
        "print(f\"Total Emissions: {total_emissions:.2f} units\")"
      ]
    },
    {
      "cell_type": "code",
      "execution_count": null,
      "metadata": {
        "colab": {
          "base_uri": "https://localhost:8080/"
        },
        "id": "3O5BmmLrn7fY",
        "outputId": "7b2e70e6-daa9-41c8-93ee-543daaf5f85a"
      },
      "outputs": [
        {
          "name": "stdout",
          "output_type": "stream",
          "text": [
            "\u001b[1m217/217\u001b[0m \u001b[32m━━━━━━━━━━━━━━━━━━━━\u001b[0m\u001b[37m\u001b[0m \u001b[1m1s\u001b[0m 2ms/step\n"
          ]
        }
      ],
      "source": [
        "# Use the LSTM model to predict demand\n",
        "pred_scaled = model.predict(X_test)\n",
        "\n",
        "# Manually inverse-transform ONLY the first feature (Global_active_power)\n",
        "min_val = scaler.data_min_[0]\n",
        "max_val = scaler.data_max_[0]\n",
        "\n",
        "# Reverse scaling manually\n",
        "predicted_demand = pred_scaled.flatten() * (max_val - min_val) + min_val\n",
        "\n",
        "# Take only the first 24 hours for Smart Grid Optimizer\n",
        "predicted_demand = predicted_demand[:24]"
      ]
    },
    {
      "cell_type": "code",
      "execution_count": 30,
      "metadata": {
        "colab": {
          "base_uri": "https://localhost:8080/"
        },
        "id": "cGZkpQ8Xn7cy",
        "outputId": "1d6aae7e-e087-4988-fb1a-af1942bba285"
      },
      "outputs": [
        {
          "name": "stdout",
          "output_type": "stream",
          "text": [
            "\n",
            "=== Emissions Report ===\n",
            "Baseline emissions     : 27.06 kg CO₂\n",
            "Optimized emissions    : 12.26 kg CO₂\n",
            "Emissions saved        : 14.81 kg CO₂\n",
            "Percent reduction      : 54.72%\n",
            "Equivalent to avoiding : 37 car miles\n",
            "Equivalent to planting : 0.7 trees\n"
          ]
        }
      ],
      "source": [
        "# Constants\n",
        "CO2_PER_KWH_NONRENEW = 0.92\n",
        "\n",
        "# Emissions calc\n",
        "baseline_emissions = sum(predicted_demand) * CO2_PER_KWH_NONRENEW\n",
        "optimized_emissions = sum(df_mix['nonrenewable_kW']) * CO2_PER_KWH_NONRENEW\n",
        "emissions_saved = baseline_emissions - optimized_emissions\n",
        "percent_saved = (emissions_saved / baseline_emissions) * 100\n",
        "\n",
        "# Real-world equivalence\n",
        "kg_per_mile = 0.404\n",
        "trees_absorb_per_year = 21\n",
        "miles_avoided = emissions_saved / kg_per_mile\n",
        "trees_equiv = emissions_saved / trees_absorb_per_year\n",
        "\n",
        "# Display\n",
        "print(\"\\n=== Emissions Report ===\")\n",
        "print(f\"Baseline emissions     : {baseline_emissions:.2f} kg CO₂\")\n",
        "print(f\"Optimized emissions    : {optimized_emissions:.2f} kg CO₂\")\n",
        "print(f\"Emissions saved        : {emissions_saved:.2f} kg CO₂\")\n",
        "print(f\"Percent reduction      : {percent_saved:.2f}%\")\n",
        "print(f\"Equivalent to avoiding : {miles_avoided:.0f} car miles\")\n",
        "print(f\"Equivalent to planting : {trees_equiv:.1f} trees\")\n"
      ]
    },
    {
      "cell_type": "code",
      "execution_count": 31,
      "metadata": {
        "colab": {
          "base_uri": "https://localhost:8080/",
          "height": 564
        },
        "id": "RgO_BrWun7af",
        "outputId": "edfc5553-12af-4655-a8a7-dd154db3cba0"
      },
      "outputs": [
        {
          "data": {
            "image/png": "[encoded data removed]",
            "text/plain": [
              "<Figure size 1000x600 with 1 Axes>"
            ]
          },
          "metadata": {},
          "output_type": "display_data"
        }
      ],
      "source": [
        "import matplotlib.pyplot as plt\n",
        "\n",
        "plt.figure(figsize=(10, 6))\n",
        "plt.plot(predicted_demand, label='Predicted Demand (kW)')\n",
        "plt.plot(df_mix['renewable_used_kW'], label='Renewable Used')\n",
        "plt.plot(df_mix['nonrenewable_kW'], label='Non-Renewable Used')\n",
        "plt.title('Smart Grid Optimization')\n",
        "plt.xlabel('Hour')\n",
        "plt.ylabel('kW')\n",
        "plt.legend()\n",
        "plt.grid(True)\n",
        "plt.show()"
      ]
    }
  ],
  "metadata": {
    "accelerator": "GPU",
    "colab": {
      "gpuType": "T4",
      "provenance": []
    },
    "kernelspec": {
      "display_name": "Python 3",
      "language": "python",
      "name": "python3"
    },
    "language_info": {
      "codemirror_mode": {
        "name": "ipython",
        "version": 3
      },
      "file_extension": ".py",
      "mimetype": "text/x-python",
      "name": "python",
      "nbconvert_exporter": "python",
      "pygments_lexer": "ipython3",
      "version": "3.12.6"
    }
  },
  "nbformat": 4,
  "nbformat_minor": 0
}
